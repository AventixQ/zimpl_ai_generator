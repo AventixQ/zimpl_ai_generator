{
 "cells": [
  {
   "cell_type": "code",
   "execution_count": 1,
   "metadata": {},
   "outputs": [],
   "source": [
    "from datasets import load_dataset\n",
    "from dotenv import load_dotenv\n",
    "import os\n",
    "from huggingface_hub import login\n",
    "import pandas as pd\n",
    "from generator_flow import generator\n",
    "from generator_flow import normal_generator"
   ]
  },
  {
   "cell_type": "markdown",
   "metadata": {},
   "source": [
    "Load examples"
   ]
  },
  {
   "cell_type": "code",
   "execution_count": 2,
   "metadata": {},
   "outputs": [
    {
     "data": {
      "text/plain": [
       "DatasetDict({\n",
       "    test: Dataset({\n",
       "        features: ['input', 'output', 'parameter', 'solution'],\n",
       "        num_rows: 67\n",
       "    })\n",
       "})"
      ]
     },
     "execution_count": 2,
     "metadata": {},
     "output_type": "execute_result"
    }
   ],
   "source": [
    "load_dotenv()\n",
    "login(os.getenv(\"HF_API_KEY\"))\n",
    "dataset = load_dataset(\"Tamiza/zimpl_data\")\n",
    "df_manual = dataset['test'].to_pandas()\n",
    "dataset"
   ]
  },
  {
   "cell_type": "markdown",
   "metadata": {},
   "source": [
    "Table for manual tests"
   ]
  },
  {
   "cell_type": "code",
   "execution_count": 3,
   "metadata": {},
   "outputs": [
    {
     "data": {
      "text/html": [
       "<div>\n",
       "<style scoped>\n",
       "    .dataframe tbody tr th:only-of-type {\n",
       "        vertical-align: middle;\n",
       "    }\n",
       "\n",
       "    .dataframe tbody tr th {\n",
       "        vertical-align: top;\n",
       "    }\n",
       "\n",
       "    .dataframe thead th {\n",
       "        text-align: right;\n",
       "    }\n",
       "</style>\n",
       "<table border=\"1\" class=\"dataframe\">\n",
       "  <thead>\n",
       "    <tr style=\"text-align: right;\">\n",
       "      <th></th>\n",
       "      <th>input</th>\n",
       "      <th>output</th>\n",
       "      <th>parameter</th>\n",
       "      <th>solution</th>\n",
       "    </tr>\n",
       "  </thead>\n",
       "  <tbody>\n",
       "    <tr>\n",
       "      <th>0</th>\n",
       "      <td>A bakery produces two types of cookies: chocol...</td>\n",
       "      <td>set CookieTypes := {\"Caramel\", \"ChocolateChip\"...</td>\n",
       "      <td>1</td>\n",
       "      <td>objective value:                              ...</td>\n",
       "    </tr>\n",
       "    <tr>\n",
       "      <th>1</th>\n",
       "      <td>\"The factory produces two products, W1 and W2,...</td>\n",
       "      <td>set Products := {\"W1\", \"W2\"};\\nset Resources :...</td>\n",
       "      <td>1</td>\n",
       "      <td>objective value:                              ...</td>\n",
       "    </tr>\n",
       "    <tr>\n",
       "      <th>2</th>\n",
       "      <td>A mining company produces lignite and anthraci...</td>\n",
       "      <td>set CoalTypes := {\"Lignite\", \"Anthracite\"};\\ns...</td>\n",
       "      <td>1</td>\n",
       "      <td>objective value:                              ...</td>\n",
       "    </tr>\n",
       "    <tr>\n",
       "      <th>3</th>\n",
       "      <td>A company has two warehouses, Warehouse A and ...</td>\n",
       "      <td>set Warehouses := {\"A\", \"B\"};\\nset Stores := {...</td>\n",
       "      <td>1</td>\n",
       "      <td>objective value:                              ...</td>\n",
       "    </tr>\n",
       "    <tr>\n",
       "      <th>4</th>\n",
       "      <td>A nutritionist wants to create a diet plan for...</td>\n",
       "      <td>set Foods := {\"Food1\", \"Food2\", \"Food3\"};\\nset...</td>\n",
       "      <td>1</td>\n",
       "      <td>objective value:                              ...</td>\n",
       "    </tr>\n",
       "    <tr>\n",
       "      <th>...</th>\n",
       "      <td>...</td>\n",
       "      <td>...</td>\n",
       "      <td>...</td>\n",
       "      <td>...</td>\n",
       "    </tr>\n",
       "    <tr>\n",
       "      <th>62</th>\n",
       "      <td>A health-conscious family wants to have a very...</td>\n",
       "      <td>var x; # number of banana servings taken\\nvar ...</td>\n",
       "      <td>0</td>\n",
       "      <td>objective value:                     11.363636...</td>\n",
       "    </tr>\n",
       "    <tr>\n",
       "      <th>63</th>\n",
       "      <td>A campsite for caravans and tents has an area ...</td>\n",
       "      <td>var x integer;    # number of caravans\\nvar y ...</td>\n",
       "      <td>0</td>\n",
       "      <td>objective value:                              ...</td>\n",
       "    </tr>\n",
       "    <tr>\n",
       "      <th>64</th>\n",
       "      <td>A factory manufactures doodads and whirligigs....</td>\n",
       "      <td>var x integer; # Each doodad costs $2 to make ...</td>\n",
       "      <td>0</td>\n",
       "      <td>objective value:                              ...</td>\n",
       "    </tr>\n",
       "    <tr>\n",
       "      <th>65</th>\n",
       "      <td>The annual subscription for a tennis club is £...</td>\n",
       "      <td>var x integer;    # number of adult members\\nv...</td>\n",
       "      <td>0</td>\n",
       "      <td>objective value:                              ...</td>\n",
       "    </tr>\n",
       "    <tr>\n",
       "      <th>66</th>\n",
       "      <td>The numbers of units of vitamins A, B and C in...</td>\n",
       "      <td>var x;      # amount (in kilograms) of Food X\\...</td>\n",
       "      <td>0</td>\n",
       "      <td>objective value:                              ...</td>\n",
       "    </tr>\n",
       "  </tbody>\n",
       "</table>\n",
       "<p>67 rows × 4 columns</p>\n",
       "</div>"
      ],
      "text/plain": [
       "                                                input  \\\n",
       "0   A bakery produces two types of cookies: chocol...   \n",
       "1   \"The factory produces two products, W1 and W2,...   \n",
       "2   A mining company produces lignite and anthraci...   \n",
       "3   A company has two warehouses, Warehouse A and ...   \n",
       "4   A nutritionist wants to create a diet plan for...   \n",
       "..                                                ...   \n",
       "62  A health-conscious family wants to have a very...   \n",
       "63  A campsite for caravans and tents has an area ...   \n",
       "64  A factory manufactures doodads and whirligigs....   \n",
       "65  The annual subscription for a tennis club is £...   \n",
       "66  The numbers of units of vitamins A, B and C in...   \n",
       "\n",
       "                                               output  parameter  \\\n",
       "0   set CookieTypes := {\"Caramel\", \"ChocolateChip\"...          1   \n",
       "1   set Products := {\"W1\", \"W2\"};\\nset Resources :...          1   \n",
       "2   set CoalTypes := {\"Lignite\", \"Anthracite\"};\\ns...          1   \n",
       "3   set Warehouses := {\"A\", \"B\"};\\nset Stores := {...          1   \n",
       "4   set Foods := {\"Food1\", \"Food2\", \"Food3\"};\\nset...          1   \n",
       "..                                                ...        ...   \n",
       "62  var x; # number of banana servings taken\\nvar ...          0   \n",
       "63  var x integer;    # number of caravans\\nvar y ...          0   \n",
       "64  var x integer; # Each doodad costs $2 to make ...          0   \n",
       "65  var x integer;    # number of adult members\\nv...          0   \n",
       "66  var x;      # amount (in kilograms) of Food X\\...          0   \n",
       "\n",
       "                                             solution  \n",
       "0   objective value:                              ...  \n",
       "1   objective value:                              ...  \n",
       "2   objective value:                              ...  \n",
       "3   objective value:                              ...  \n",
       "4   objective value:                              ...  \n",
       "..                                                ...  \n",
       "62  objective value:                     11.363636...  \n",
       "63  objective value:                              ...  \n",
       "64  objective value:                              ...  \n",
       "65  objective value:                              ...  \n",
       "66  objective value:                              ...  \n",
       "\n",
       "[67 rows x 4 columns]"
      ]
     },
     "execution_count": 3,
     "metadata": {},
     "output_type": "execute_result"
    }
   ],
   "source": [
    "df_manual\n"
   ]
  },
  {
   "cell_type": "markdown",
   "metadata": {},
   "source": [
    "Generate responses using AI ZIMPL Generator (for now first 10)"
   ]
  },
  {
   "cell_type": "code",
   "execution_count": 4,
   "metadata": {},
   "outputs": [],
   "source": [
    "df_manual['ai_advanced'] = df_manual.apply(lambda row: generator(row['input'], row['parameter']), axis=1)"
   ]
  },
  {
   "cell_type": "markdown",
   "metadata": {},
   "source": [
    "Show answers"
   ]
  },
  {
   "cell_type": "code",
   "execution_count": null,
   "metadata": {},
   "outputs": [],
   "source": [
    "df_manual[:5].map(lambda x: str(x)).style.set_properties(**{'text-align': 'left', 'white-space': 'pre-wrap'})"
   ]
  },
  {
   "cell_type": "code",
   "execution_count": 6,
   "metadata": {},
   "outputs": [],
   "source": [
    "df_manual['ai_normal'] = df_manual['input'].apply(normal_generator)"
   ]
  },
  {
   "cell_type": "code",
   "execution_count": null,
   "metadata": {},
   "outputs": [],
   "source": [
    "from pandas import DataFrame\n",
    "df_manual[:5][['output', 'ai_advanced', 'ai_normal']].map(lambda x: str(x)).style.set_properties(**{'text-align': 'left', 'white-space': 'pre-wrap'})"
   ]
  },
  {
   "cell_type": "markdown",
   "metadata": {},
   "source": [
    "## Solver results"
   ]
  },
  {
   "cell_type": "code",
   "execution_count": null,
   "metadata": {},
   "outputs": [],
   "source": [
    "from solver import run_scip_and_extract_solution\n",
    "SCIP_PATH = r\"C:\\\\Program Files\\\\SCIPOptSuite 9.1.0\\\\bin\"\n",
    "\n",
    "df_manual[\"ai_advanced\"] = df_manual[\"ai_advanced\"].astype(str)\n",
    "df_manual[\"ai_normal\"] = df_manual[\"ai_normal\"].astype(str)\n",
    "\n",
    "def process_zimpl_code(zimpl_code):\n",
    "    try:\n",
    "        valid, result = run_scip_and_extract_solution(zimpl_code, SCIP_PATH)\n",
    "        print(f\"Valid: {valid}, Result: {result}\")\n",
    "        return valid, result\n",
    "    except Exception as e:\n",
    "        print(f\"Error processing code: {e}\")\n",
    "        return False, None\n",
    "\n",
    "\n",
    "\n",
    "df_manual[[\"valid_advanced\", \"result_advanced\"]] = df_manual[\"ai_advanced\"].apply(\n",
    "    lambda code: pd.Series(process_zimpl_code(code))\n",
    ")\n",
    "\n",
    "df_manual[[\"valid_normal\", \"result_normal\"]] = df_manual[\"ai_normal\"].apply(\n",
    "    lambda code: pd.Series(process_zimpl_code(code))\n",
    ")"
   ]
  },
  {
   "cell_type": "markdown",
   "metadata": {},
   "source": [
    "## Compare validation"
   ]
  },
  {
   "cell_type": "markdown",
   "metadata": {},
   "source": []
  },
  {
   "cell_type": "code",
   "execution_count": null,
   "metadata": {},
   "outputs": [],
   "source": [
    "import pandas as pd\n",
    "\n",
    "print(\"ZIMPL generator results\")\n",
    "comparison_table = pd.DataFrame({\n",
    "    \"Category\": [\n",
    "        \"Valid (True)\",\n",
    "        \"Not Valid (False)\",\n",
    "    ],\n",
    "    \"Count\": [\n",
    "        (df_manual[\"valid_advanced\"] == True).sum(),\n",
    "        (df_manual[\"valid_advanced\"] == False).sum(),\n",
    "    ]\n",
    "})\n",
    "\n",
    "comparison_table[\"Percentage\"] = (\n",
    "    comparison_table[\"Count\"] / len(df_manual) * 100\n",
    ").round(2)\n",
    "\n",
    "print(comparison_table)\n",
    "\n",
    "print(\"ZIMPL generator results - hardcoded\")\n",
    "comparison_table = pd.DataFrame({\n",
    "    \"Category\": [\n",
    "        \"Valid hardcoded (True)\",\n",
    "        \"Not Valid hardcoded (False)\",\n",
    "    ],\n",
    "    \"Count\": [\n",
    "        ((df_manual[\"valid_advanced\"] == True) & (df_manual[\"parameter\"] == 0)).sum(),\n",
    "        ((df_manual[\"valid_advanced\"] == False) & (df_manual[\"parameter\"] == 0)).sum(),\n",
    "    ]\n",
    "})\n",
    "\n",
    "comparison_table[\"Percentage\"] = (\n",
    "    comparison_table[\"Count\"] / comparison_table[\"Count\"].sum() * 100\n",
    ").round(2)\n",
    "\n",
    "print(comparison_table)\n",
    "\n",
    "print(\"ZIMPL generator results - params\")\n",
    "comparison_table = pd.DataFrame({\n",
    "    \"Category\": [\n",
    "        \"Valid with params (True)\",\n",
    "        \"Not Valid with params (False)\"\n",
    "    ],\n",
    "    \"Count\": [\n",
    "        ((df_manual[\"valid_advanced\"] == True) & (df_manual[\"parameter\"] == 1)).sum(),\n",
    "        ((df_manual[\"valid_advanced\"] == False) & (df_manual[\"parameter\"] == 1)).sum(),\n",
    "    ]\n",
    "})\n",
    "\n",
    "comparison_table[\"Percentage\"] = (\n",
    "    comparison_table[\"Count\"] / comparison_table[\"Count\"].sum() * 100\n",
    ").round(2)\n",
    "\n",
    "print(comparison_table)\n",
    "\n",
    "print(\"Normal OpenAI model results\")\n",
    "comparison_table_normal = pd.DataFrame({\n",
    "    \"Category\": [\n",
    "        \"Valid (True)\",\n",
    "        \"Not Valid (False)\",\n",
    "    ],\n",
    "    \"Count\": [\n",
    "        (df_manual[\"valid_normal\"] == True).sum(),\n",
    "        (df_manual[\"valid_normal\"] == False).sum(),\n",
    "    ]\n",
    "})\n",
    "\n",
    "comparison_table_normal[\"Percentage\"] = (\n",
    "    comparison_table_normal[\"Count\"] / len(df_manual) * 100\n",
    ").round(2)\n",
    "\n",
    "print(comparison_table_normal)\n",
    "\n",
    "print(\"All results\")\n",
    "comparison_table = pd.DataFrame({\n",
    "    \"Category\": [\n",
    "        \"Both Valid (True, True)\",\n",
    "        \"Advanced Valid Only (True, False)\",\n",
    "        \"Normal Valid Only (False, True)\",\n",
    "        \"Both Invalid (False, False)\",\n",
    "    ],\n",
    "    \"Count\": [\n",
    "        ((df_manual[\"valid_advanced\"] == True) & (df_manual[\"valid_normal\"] == True)).sum(),\n",
    "        ((df_manual[\"valid_advanced\"] == True) & (df_manual[\"valid_normal\"] == False)).sum(),\n",
    "        ((df_manual[\"valid_advanced\"] == False) & (df_manual[\"valid_normal\"] == True)).sum(),\n",
    "        ((df_manual[\"valid_advanced\"] == False) & (df_manual[\"valid_normal\"] == False)).sum(),\n",
    "    ]\n",
    "})\n",
    "\n",
    "comparison_table[\"Percentage\"] = (\n",
    "    comparison_table[\"Count\"] / len(df_manual) * 100\n",
    ").round(2)\n",
    "\n",
    "print(comparison_table)\n"
   ]
  },
  {
   "cell_type": "code",
   "execution_count": null,
   "metadata": {},
   "outputs": [],
   "source": [
    "import pandas as pd\n",
    "\n",
    "notvalid_rows_advanced = df_manual[df_manual['valid_advanced'] == False]\n",
    "selected_columns = notvalid_rows_advanced[['output', 'ai_advanced', 'ai_normal']]\n",
    "selected_columns.to_excel('not_valid.xlsx', index=False, engine='openpyxl')\n",
    "\n",
    "print(\"Dane zostały zapisane w formacie XLSX do pliku not_valid.xlsx.\")\n"
   ]
  },
  {
   "cell_type": "code",
   "execution_count": 11,
   "metadata": {},
   "outputs": [],
   "source": [
    "from IPython.display import display, HTML\n",
    "\n",
    "df_manual[\"ai_advanced_display\"] = df_manual[\"ai_advanced\"].str.replace('\\n', '<br>', regex=False)\n",
    "\n",
    "html_content = df_manual[\"ai_advanced_display\"].apply(lambda x: f'<div>{x}</div>').to_list()\n",
    "#display(HTML(''.join(html_content)))"
   ]
  },
  {
   "cell_type": "markdown",
   "metadata": {},
   "source": [
    "Check valid rows and search for correct results in advanced ZIMPL creator"
   ]
  },
  {
   "cell_type": "code",
   "execution_count": null,
   "metadata": {},
   "outputs": [],
   "source": [
    "from obj_fun_validator import compare_solutions\n",
    "\n",
    "valid_rows_advanced = df_manual[df_manual['valid_advanced'] == True]\n",
    "notvalid_rows_advanced = df_manual[df_manual['valid_advanced'] == False]\n",
    "#print(valid_rows_advanced[\"result_advanced\"])\n",
    "#print(notvalid_rows_advanced[\"result_advanced\"])\n",
    "\n",
    "df_manual.loc[valid_rows_advanced.index, 'compare_advanced'] = valid_rows_advanced.apply(\n",
    "    lambda row: compare_solutions(row['solution'], row['result_advanced'])[0], axis=1\n",
    ")\n",
    "\n",
    "valid_count = len(valid_rows_advanced)\n",
    "\n",
    "#print(f\"valid_advanced == True: {valid_count}\")\n",
    "#print(df_manual['compare_advanced'])\n",
    "\n",
    "total_count = len(df_manual)\n",
    "nan_count = df_manual['compare_advanced'].isna().sum()\n",
    "true_count = (df_manual['compare_advanced'] == True).sum()\n",
    "false_count = (df_manual['compare_advanced'] == False).sum()\n",
    "\n",
    "nan_percentage = (nan_count / total_count) * 100\n",
    "true_percentage = (true_count / total_count) * 100\n",
    "false_percentage = (false_count / total_count) * 100\n",
    "\n",
    "print(f\"All stats:\")\n",
    "print(f\"True: {true_count} ({true_percentage:.2f}%)\")\n",
    "print(f\"False: {false_count} ({false_percentage:.2f}%)\")\n",
    "print(f\"NaN: {nan_count} ({nan_percentage:.2f}%)\")\n",
    "\n",
    "non_nan_rows = df_manual.loc[~df_manual['compare_advanced'].isna()]\n",
    "true_non_nan_count = (non_nan_rows['compare_advanced'] == True).sum()\n",
    "false_non_nan_count = (non_nan_rows['compare_advanced'] == False).sum()\n",
    "\n",
    "true_non_nan_percentage = (true_non_nan_count / valid_count) * 100\n",
    "false_non_nan_percentage = (false_non_nan_count / valid_count) * 100\n",
    "\n",
    "print(f\"\\nStats without NaN (valid_count = {valid_count}):\")\n",
    "print(f\"True: {true_non_nan_count} ({true_non_nan_percentage:.2f}%)\")\n",
    "print(f\"False: {false_non_nan_count} ({false_non_nan_percentage:.2f}%)\")\n",
    "\n",
    "#notvalid_rows_advanced[\"ai_advanced\"].head(10)\n"
   ]
  },
  {
   "cell_type": "markdown",
   "metadata": {},
   "source": [
    "Check valid rows and search for correct results in normal GPT model"
   ]
  },
  {
   "cell_type": "code",
   "execution_count": null,
   "metadata": {},
   "outputs": [],
   "source": [
    "valid_rows_normal = df_manual[df_manual['valid_normal'] == True]\n",
    "#print(valid_rows[\"result_normal\"])\n",
    "\n",
    "df_manual.loc[valid_rows_normal.index, 'compare_normal'] = valid_rows_normal.apply(\n",
    "    lambda row: compare_solutions(row['solution'], row['result_normal'])[0], axis=1\n",
    ")\n",
    "\n",
    "valid_count = len(valid_rows_normal)\n",
    "\n",
    "#print(f\"valid_normal == True: {valid_count}\")\n",
    "#print(df_manual['compare_normal'])\n",
    "\n",
    "total_count = len(df_manual)\n",
    "nan_count = df_manual['compare_normal'].isna().sum()\n",
    "true_count = (df_manual['compare_normal'] == True).sum()\n",
    "false_count = (df_manual['compare_normal'] == False).sum()\n",
    "\n",
    "nan_percentage = (nan_count / total_count) * 100\n",
    "true_percentage = (true_count / total_count) * 100\n",
    "false_percentage = (false_count / total_count) * 100\n",
    "\n",
    "print(f\"All stats:\")\n",
    "print(f\"NaN: {nan_count} ({nan_percentage:.2f}%)\")\n",
    "print(f\"True: {true_count} ({true_percentage:.2f}%)\")\n",
    "print(f\"False: {false_count} ({false_percentage:.2f}%)\")\n",
    "\n",
    "non_nan_rows = df_manual.loc[~df_manual['compare_normal'].isna()]\n",
    "true_non_nan_count = (non_nan_rows['compare_normal'] == True).sum()\n",
    "false_non_nan_count = (non_nan_rows['compare_normal'] == False).sum()\n",
    "\n",
    "if valid_count == 0:\n",
    "    true_non_nan_percentage = (true_non_nan_count / valid_count) * 100\n",
    "    false_non_nan_percentage = (false_non_nan_count / valid_count) * 100\n",
    "else:\n",
    "    true_non_nan_percentage = 0\n",
    "    false_non_nan_percentage = 0\n",
    "\n",
    "print(f\"\\nStats without NaN (valid_count = {valid_count}):\")\n",
    "print(f\"True: {true_non_nan_count} ({true_non_nan_percentage:.2f}%)\")\n",
    "print(f\"False: {false_non_nan_count} ({false_non_nan_percentage:.2f}%)\")"
   ]
  },
  {
   "cell_type": "code",
   "execution_count": null,
   "metadata": {},
   "outputs": [],
   "source": [
    "from generator_flow import validate_generator\n",
    "\n",
    "df_manual['llm_score_advanced'] = validate_generator(df_manual['output'], df_manual['ai_advanced'], df_manual['parameter'])\n",
    "\n",
    "print(df_manual[['output', 'ai_advanced', 'llm_score_advanced']].head())\n"
   ]
  },
  {
   "cell_type": "markdown",
   "metadata": {},
   "source": [
    "TODO\n",
    "\n",
    "\n",
    "- weryfikacja kodu poprzez: punktowanie przez niezależy model językowy (kolumna ai_advanced)"
   ]
  }
 ],
 "metadata": {
  "kernelspec": {
   "display_name": "aienv",
   "language": "python",
   "name": "python3"
  },
  "language_info": {
   "codemirror_mode": {
    "name": "ipython",
    "version": 3
   },
   "file_extension": ".py",
   "mimetype": "text/x-python",
   "name": "python",
   "nbconvert_exporter": "python",
   "pygments_lexer": "ipython3",
   "version": "3.12.8"
  }
 },
 "nbformat": 4,
 "nbformat_minor": 2
}
